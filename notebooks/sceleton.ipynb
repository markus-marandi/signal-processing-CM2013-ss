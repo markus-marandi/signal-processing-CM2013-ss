{
 "cells": [
  {
   "metadata": {},
   "cell_type": "markdown",
   "source": "### Imports",
   "id": "b245280b60483789"
  },
  {
   "metadata": {},
   "cell_type": "markdown",
   "source": "",
   "id": "af4ea086dddacf22"
  },
  {
   "metadata": {
    "ExecuteTime": {
     "end_time": "2025-04-09T19:48:57.232387Z",
     "start_time": "2025-04-09T19:48:57.230955Z"
    }
   },
   "cell_type": "code",
   "source": [
    "# Define paths to the MAT files\n",
    "edf_mat_path = \"../data/EDF_RawData.mat\"\n",
    "xml_mat_path = \"../data/XML_RawData.mat\""
   ],
   "id": "9c9a247623bf244d",
   "outputs": [],
   "execution_count": 1
  },
  {
   "metadata": {
    "ExecuteTime": {
     "end_time": "2025-04-09T19:48:58.478329Z",
     "start_time": "2025-04-09T19:48:57.973357Z"
    }
   },
   "cell_type": "code",
   "source": [
    "import numpy as np\n",
    "import matplotlib.pyplot as plt\n",
    "import pandas as pd\n",
    "\n",
    "\n",
    "from data.edf_data_import import (\n",
    "    describe_edf_mat_structure,\n",
    "    extract_eeg_signal,\n",
    "    compute_signal_features,\n",
    "    extract_all_eeg_signals,\n",
    "    compute_psd,\n",
    ")"
   ],
   "id": "a518be94b415c259",
   "outputs": [],
   "execution_count": 2
  },
  {
   "metadata": {},
   "cell_type": "markdown",
   "source": "## 1. EEG (Electroencephalogram) – Brain activity (2 channels)",
   "id": "7ee7032d3a6ef0aa"
  },
  {
   "metadata": {
    "ExecuteTime": {
     "end_time": "2025-04-09T19:49:16.190813Z",
     "start_time": "2025-04-09T19:49:09.896634Z"
    }
   },
   "cell_type": "code",
   "source": [
    "# Display the results in a pandas DataFrame for better visualization.\n",
    "all_eeg_signals = extract_all_eeg_signals(edf_mat_path, channel=0)\n",
    "all_features = [compute_signal_features(signal) for signal in all_eeg_signals]\n",
    "features_df = pd.DataFrame(all_features)\n",
    "print(\"EEG Signal Features for All EDF Files:\")\n",
    "display(features_df)"
   ],
   "id": "ab77a42bfc61470",
   "outputs": [
    {
     "name": "stdout",
     "output_type": "stream",
     "text": [
      "EEG Signal Features for All EDF Files:\n"
     ]
    },
    {
     "data": {
      "text/plain": [
       "        mean     variance        rms  peak_to_peak  zero_crossings  \\\n",
       "0  16.394099   894.359849  34.104638     99.724193               4   \n",
       "1  14.663747   990.666915  34.723081    126.187152               6   \n",
       "2  14.801868   808.603764  32.057746    126.003281               4   \n",
       "3   5.809894  1342.976985  37.104337    150.513085               6   \n",
       "4   4.229341  1201.752425  34.923341    158.348592               8   \n",
       "5   9.139617  1090.601269  34.265637    136.971466               8   \n",
       "6  15.861900   986.178284  35.182072    107.481594               6   \n",
       "7  13.685445  1097.736304  35.847283    125.006104               6   \n",
       "8  23.262643  1460.344946  44.738076    132.352941               2   \n",
       "9  -5.475663  2002.536794  45.083475    174.241627               6   \n",
       "\n",
       "   hjorth_activity  hjorth_mobility  hjorth_complexity  \n",
       "0       894.359849         0.793813           1.756993  \n",
       "1       990.666915         0.924543           1.615575  \n",
       "2       808.603764         1.007303           1.371351  \n",
       "3      1342.976985         0.937260           1.746578  \n",
       "4      1201.752425         1.009617           1.491204  \n",
       "5      1090.601269         0.799810           1.865842  \n",
       "6       986.178284         0.774596           1.838686  \n",
       "7      1097.736304         0.716539           1.970163  \n",
       "8      1460.344946         1.071323           1.479340  \n",
       "9      2002.536794         0.897918           1.619666  "
      ],
      "text/html": [
       "<div>\n",
       "<style scoped>\n",
       "    .dataframe tbody tr th:only-of-type {\n",
       "        vertical-align: middle;\n",
       "    }\n",
       "\n",
       "    .dataframe tbody tr th {\n",
       "        vertical-align: top;\n",
       "    }\n",
       "\n",
       "    .dataframe thead th {\n",
       "        text-align: right;\n",
       "    }\n",
       "</style>\n",
       "<table border=\"1\" class=\"dataframe\">\n",
       "  <thead>\n",
       "    <tr style=\"text-align: right;\">\n",
       "      <th></th>\n",
       "      <th>mean</th>\n",
       "      <th>variance</th>\n",
       "      <th>rms</th>\n",
       "      <th>peak_to_peak</th>\n",
       "      <th>zero_crossings</th>\n",
       "      <th>hjorth_activity</th>\n",
       "      <th>hjorth_mobility</th>\n",
       "      <th>hjorth_complexity</th>\n",
       "    </tr>\n",
       "  </thead>\n",
       "  <tbody>\n",
       "    <tr>\n",
       "      <th>0</th>\n",
       "      <td>16.394099</td>\n",
       "      <td>894.359849</td>\n",
       "      <td>34.104638</td>\n",
       "      <td>99.724193</td>\n",
       "      <td>4</td>\n",
       "      <td>894.359849</td>\n",
       "      <td>0.793813</td>\n",
       "      <td>1.756993</td>\n",
       "    </tr>\n",
       "    <tr>\n",
       "      <th>1</th>\n",
       "      <td>14.663747</td>\n",
       "      <td>990.666915</td>\n",
       "      <td>34.723081</td>\n",
       "      <td>126.187152</td>\n",
       "      <td>6</td>\n",
       "      <td>990.666915</td>\n",
       "      <td>0.924543</td>\n",
       "      <td>1.615575</td>\n",
       "    </tr>\n",
       "    <tr>\n",
       "      <th>2</th>\n",
       "      <td>14.801868</td>\n",
       "      <td>808.603764</td>\n",
       "      <td>32.057746</td>\n",
       "      <td>126.003281</td>\n",
       "      <td>4</td>\n",
       "      <td>808.603764</td>\n",
       "      <td>1.007303</td>\n",
       "      <td>1.371351</td>\n",
       "    </tr>\n",
       "    <tr>\n",
       "      <th>3</th>\n",
       "      <td>5.809894</td>\n",
       "      <td>1342.976985</td>\n",
       "      <td>37.104337</td>\n",
       "      <td>150.513085</td>\n",
       "      <td>6</td>\n",
       "      <td>1342.976985</td>\n",
       "      <td>0.937260</td>\n",
       "      <td>1.746578</td>\n",
       "    </tr>\n",
       "    <tr>\n",
       "      <th>4</th>\n",
       "      <td>4.229341</td>\n",
       "      <td>1201.752425</td>\n",
       "      <td>34.923341</td>\n",
       "      <td>158.348592</td>\n",
       "      <td>8</td>\n",
       "      <td>1201.752425</td>\n",
       "      <td>1.009617</td>\n",
       "      <td>1.491204</td>\n",
       "    </tr>\n",
       "    <tr>\n",
       "      <th>5</th>\n",
       "      <td>9.139617</td>\n",
       "      <td>1090.601269</td>\n",
       "      <td>34.265637</td>\n",
       "      <td>136.971466</td>\n",
       "      <td>8</td>\n",
       "      <td>1090.601269</td>\n",
       "      <td>0.799810</td>\n",
       "      <td>1.865842</td>\n",
       "    </tr>\n",
       "    <tr>\n",
       "      <th>6</th>\n",
       "      <td>15.861900</td>\n",
       "      <td>986.178284</td>\n",
       "      <td>35.182072</td>\n",
       "      <td>107.481594</td>\n",
       "      <td>6</td>\n",
       "      <td>986.178284</td>\n",
       "      <td>0.774596</td>\n",
       "      <td>1.838686</td>\n",
       "    </tr>\n",
       "    <tr>\n",
       "      <th>7</th>\n",
       "      <td>13.685445</td>\n",
       "      <td>1097.736304</td>\n",
       "      <td>35.847283</td>\n",
       "      <td>125.006104</td>\n",
       "      <td>6</td>\n",
       "      <td>1097.736304</td>\n",
       "      <td>0.716539</td>\n",
       "      <td>1.970163</td>\n",
       "    </tr>\n",
       "    <tr>\n",
       "      <th>8</th>\n",
       "      <td>23.262643</td>\n",
       "      <td>1460.344946</td>\n",
       "      <td>44.738076</td>\n",
       "      <td>132.352941</td>\n",
       "      <td>2</td>\n",
       "      <td>1460.344946</td>\n",
       "      <td>1.071323</td>\n",
       "      <td>1.479340</td>\n",
       "    </tr>\n",
       "    <tr>\n",
       "      <th>9</th>\n",
       "      <td>-5.475663</td>\n",
       "      <td>2002.536794</td>\n",
       "      <td>45.083475</td>\n",
       "      <td>174.241627</td>\n",
       "      <td>6</td>\n",
       "      <td>2002.536794</td>\n",
       "      <td>0.897918</td>\n",
       "      <td>1.619666</td>\n",
       "    </tr>\n",
       "  </tbody>\n",
       "</table>\n",
       "</div>"
      ]
     },
     "metadata": {},
     "output_type": "display_data"
    }
   ],
   "execution_count": 4
  },
  {
   "metadata": {},
   "cell_type": "markdown",
   "source": "## 2. EOG (Electrooculogram) – Eye movements (2 channels: left and right eye)",
   "id": "cbb3281407937215"
  },
  {
   "metadata": {},
   "cell_type": "code",
   "outputs": [],
   "execution_count": null,
   "source": [
    "# Load the MAT file\n",
    "# Calculate  Mean, variance, RMS, peak-to-peak, zero crossings"
   ],
   "id": "d468a49186db4924"
  },
  {
   "metadata": {},
   "cell_type": "code",
   "outputs": [],
   "execution_count": null,
   "source": [
    "#Frequency-domain features (FFT, Welch PSD):\n",
    "#Relative power in delta, theta, alpha, beta, gamma bands\n",
    "#\t•\tBandpower ratios (e.g., delta/alpha, theta/beta)\n",
    "#\t•\tSpectral entropy, median frequency"
   ],
   "id": "1f0e608bc3287c24"
  },
  {
   "metadata": {},
   "cell_type": "markdown",
   "source": "## 3. EMG (Electromyogram) – Muscle activity",
   "id": "16825f6b00178273"
  },
  {
   "metadata": {},
   "cell_type": "code",
   "outputs": [],
   "execution_count": null,
   "source": [
    "# Load the MAT file\n",
    "# Calculate  Mean, variance, RMS, peak-to-peak, zero crossings"
   ],
   "id": "fb21a61fd3c69c01"
  },
  {
   "metadata": {},
   "cell_type": "code",
   "outputs": [],
   "execution_count": null,
   "source": [
    "#Frequency-domain features (FFT, Welch PSD):\n",
    "#Relative power in delta, theta, alpha, beta, gamma bands\n",
    "#\t•\tBandpower ratios (e.g., delta/alpha, theta/beta)\n",
    "#\t•\tSpectral entropy, median frequency"
   ],
   "id": "98f6e091364b5093"
  },
  {
   "metadata": {},
   "cell_type": "markdown",
   "source": "## 4. ECG (Electrocardiogram) – Heart activity",
   "id": "25d027162210d062"
  },
  {
   "metadata": {},
   "cell_type": "code",
   "outputs": [],
   "execution_count": null,
   "source": [
    "# Load the MAT file\n",
    "# Calculate  Mean, variance, RMS, peak-to-peak, zero crossings"
   ],
   "id": "7fb4c27f95ee1884"
  },
  {
   "metadata": {},
   "cell_type": "code",
   "outputs": [],
   "execution_count": null,
   "source": [
    "#Frequency-domain features (FFT, Welch PSD):\n",
    "#Relative power in delta, theta, alpha, beta, gamma bands\n",
    "#\t•\tBandpower ratios (e.g., delta/alpha, theta/beta)\n",
    "#\t•\tSpectral entropy, median frequency"
   ],
   "id": "3acecd7363ac03e8"
  },
  {
   "metadata": {},
   "cell_type": "markdown",
   "source": "## 5. Body Position",
   "id": "79086441de2590ea"
  },
  {
   "metadata": {
    "ExecuteTime": {
     "end_time": "2025-04-09T05:39:20.397631Z",
     "start_time": "2025-04-09T05:39:20.395557Z"
    }
   },
   "cell_type": "code",
   "source": [
    "# Load the MAT file\n",
    "# Calculate  Mean, variance, RMS, peak-to-peak, zero crossings"
   ],
   "id": "6e5bd6f066d17a2a",
   "outputs": [],
   "execution_count": 5
  },
  {
   "metadata": {},
   "cell_type": "code",
   "outputs": [],
   "execution_count": null,
   "source": [
    "#Frequency-domain features (FFT, Welch PSD):\n",
    "#Relative power in delta, theta, alpha, beta, gamma bands\n",
    "#\t•\tBandpower ratios (e.g., delta/alpha, theta/beta)\n",
    "#\t•\tSpectral entropy, median frequency"
   ],
   "id": "859f54568a326208"
  },
  {
   "metadata": {},
   "cell_type": "markdown",
   "source": "## 6. SpO2 (Oxygen Saturation)",
   "id": "6d91ce116aa0111d"
  },
  {
   "metadata": {},
   "cell_type": "code",
   "outputs": [],
   "execution_count": null,
   "source": [
    "# Load the MAT file\n",
    "# Calculate  Mean, variance, RMS, peak-to-peak, zero crossings"
   ],
   "id": "3c2c62f8b8b9a7a0"
  },
  {
   "metadata": {},
   "cell_type": "code",
   "outputs": [],
   "execution_count": null,
   "source": [
    "#Frequency-domain features (FFT, Welch PSD):\n",
    "#Relative power in delta, theta, alpha, beta, gamma bands\n",
    "#\t•\tBandpower ratios (e.g., delta/alpha, theta/beta)\n",
    "#\t•\tSpectral entropy, median frequency"
   ],
   "id": "294e93b82d73b776"
  },
  {
   "metadata": {},
   "cell_type": "markdown",
   "source": "",
   "id": "1392f3b96a0da327"
  },
  {
   "metadata": {},
   "cell_type": "markdown",
   "source": "## 7. Thoracic and Abdominal Respiration",
   "id": "5a9c440988ab187f"
  },
  {
   "metadata": {},
   "cell_type": "code",
   "outputs": [],
   "execution_count": null,
   "source": [
    "# Load the MAT file\n",
    "# Calculate  Mean, variance, RMS, peak-to-peak, zero crossings"
   ],
   "id": "baba382c6df95cb"
  },
  {
   "metadata": {},
   "cell_type": "code",
   "outputs": [],
   "execution_count": null,
   "source": [
    "#Frequency-domain features (FFT, Welch PSD):\n",
    "#Relative power in delta, theta, alpha, beta, gamma bands\n",
    "#\t•\tBandpower ratios (e.g., delta/alpha, theta/beta)\n",
    "#\t•\tSpectral entropy, median frequency"
   ],
   "id": "4abc4b86fad1fcbc"
  },
  {
   "metadata": {},
   "cell_type": "markdown",
   "source": "## 8. Cross-signal features:",
   "id": "54d04c2753131ba5"
  }
 ],
 "metadata": {
  "kernelspec": {
   "display_name": "Python 3",
   "language": "python",
   "name": "python3"
  },
  "language_info": {
   "codemirror_mode": {
    "name": "ipython",
    "version": 2
   },
   "file_extension": ".py",
   "mimetype": "text/x-python",
   "name": "python",
   "nbconvert_exporter": "python",
   "pygments_lexer": "ipython2",
   "version": "2.7.6"
  }
 },
 "nbformat": 4,
 "nbformat_minor": 5
}
