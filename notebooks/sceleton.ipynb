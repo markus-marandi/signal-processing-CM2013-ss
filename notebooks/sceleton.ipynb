{
 "cells": [
  {
   "metadata": {},
   "cell_type": "markdown",
   "source": "### Imports",
   "id": "b245280b60483789"
  },
  {
   "metadata": {},
   "cell_type": "markdown",
   "source": "",
   "id": "af4ea086dddacf22"
  },
  {
   "metadata": {
    "ExecuteTime": {
     "end_time": "2025-04-09T05:31:49.002290Z",
     "start_time": "2025-04-09T05:31:49.000022Z"
    }
   },
   "cell_type": "code",
   "source": [
    "# Define paths to the MAT files\n",
    "edf_mat_path = \"../data/EDF_RawData.mat\"\n",
    "xml_mat_path = \"../data/XML_RawData.mat\""
   ],
   "id": "9c9a247623bf244d",
   "outputs": [],
   "execution_count": 1
  },
  {
   "metadata": {
    "ExecuteTime": {
     "end_time": "2025-04-09T05:31:51.463192Z",
     "start_time": "2025-04-09T05:31:51.199061Z"
    }
   },
   "cell_type": "code",
   "source": [
    "# Libraries\n",
    "import h5py\n",
    "\n",
    "# Helper functions\n",
    "from data.edf_data_import import (\n",
    "    read_mat_string,\n",
    "    recursive_print,\n",
    "    describe_edf_mat_structure,\n",
    ")\n",
    "\n",
    "from data.xml_data_import import (\n",
    "    load_xml_mat, \n",
    "    describe_xml_data_structure, \n",
    "    get_xml_file_data,\n",
    "    get_field_value,\n",
    "    slice_matrix,\n",
    "    save_to_mat\n",
    ")"
   ],
   "id": "a518be94b415c259",
   "outputs": [
    {
     "name": "stdout",
     "output_type": "stream",
     "text": [
      "Keys in MAT file:\n",
      " - #refs#\n",
      " - allData\n",
      "\n",
      "Structure of 'allData':\n",
      "  Attribute MATLAB_class: b'struct'\n",
      "  Attribute MATLAB_fields: [array([b'f', b'i', b'l', b'e', b'N', b'a', b'm', b'e'], dtype='|S1')\n",
      " array([b'h', b'd', b'r'], dtype='|S1')\n",
      " array([b'r', b'e', b'c', b'o', b'r', b'd'], dtype='|S1')]\n",
      "  Field: fileName\n",
      "  Field: hdr\n",
      "  Field: record\n",
      "\n",
      "Decoded file names from 'allData':\n",
      "  1: R\u00001\u0000.\u0000e\u0000d\u0000f\u0000\n",
      "  2: R\u00001\u00000\u0000.\u0000e\u0000d\u0000f\u0000\n",
      "  3: R\u00002\u0000.\u0000e\u0000d\u0000f\u0000\n",
      "  4: R\u00003\u0000.\u0000e\u0000d\u0000f\u0000\n",
      "  5: R\u00004\u0000.\u0000e\u0000d\u0000f\u0000\n",
      "  6: R\u00005\u0000.\u0000e\u0000d\u0000f\u0000\n",
      "  7: R\u00006\u0000.\u0000e\u0000d\u0000f\u0000\n",
      "  8: R\u00007\u0000.\u0000e\u0000d\u0000f\u0000\n",
      "  9: R\u00008\u0000.\u0000e\u0000d\u0000f\u0000\n",
      "  10: R\u00009\u0000.\u0000e\u0000d\u0000f\u0000\n"
     ]
    }
   ],
   "execution_count": 2
  },
  {
   "metadata": {},
   "cell_type": "markdown",
   "source": "",
   "id": "6c7ca38d26cfd29e"
  },
  {
   "metadata": {},
   "cell_type": "markdown",
   "source": "## 1. EEG (Electroencephalogram) – Brain activity (2 channels)",
   "id": "7ee7032d3a6ef0aa"
  },
  {
   "metadata": {},
   "cell_type": "code",
   "outputs": [],
   "execution_count": null,
   "source": [
    "# Load the MAT file\n",
    "# Calculate  Mean, variance, RMS, peak-to-peak, zero crossings\n",
    "# Hjorth parameters: Activity, Mobility, Complexity\n",
    "# EMG tone (muscle tension), ECG R-R intervals"
   ],
   "id": "ebf2924109afa301"
  },
  {
   "metadata": {},
   "cell_type": "code",
   "outputs": [],
   "execution_count": null,
   "source": [
    "#Frequency-domain features (FFT, Welch PSD):\n",
    "#Relative power in delta, theta, alpha, beta, gamma bands\n",
    "#\t•\tBandpower ratios (e.g., delta/alpha, theta/beta)\n",
    "#\t•\tSpectral entropy, median frequency"
   ],
   "id": "f5ba65e388100684"
  },
  {
   "metadata": {},
   "cell_type": "markdown",
   "source": "## 2. EOG (Electrooculogram) – Eye movements (2 channels: left and right eye)",
   "id": "cbb3281407937215"
  },
  {
   "metadata": {},
   "cell_type": "code",
   "outputs": [],
   "execution_count": null,
   "source": [
    "# Load the MAT file\n",
    "# Calculate  Mean, variance, RMS, peak-to-peak, zero crossings"
   ],
   "id": "d468a49186db4924"
  },
  {
   "metadata": {},
   "cell_type": "code",
   "outputs": [],
   "execution_count": null,
   "source": [
    "#Frequency-domain features (FFT, Welch PSD):\n",
    "#Relative power in delta, theta, alpha, beta, gamma bands\n",
    "#\t•\tBandpower ratios (e.g., delta/alpha, theta/beta)\n",
    "#\t•\tSpectral entropy, median frequency"
   ],
   "id": "1f0e608bc3287c24"
  },
  {
   "metadata": {},
   "cell_type": "markdown",
   "source": "## 3. EMG (Electromyogram) – Muscle activity",
   "id": "16825f6b00178273"
  },
  {
   "metadata": {},
   "cell_type": "code",
   "outputs": [],
   "execution_count": null,
   "source": [
    "# Load the MAT file\n",
    "# Calculate  Mean, variance, RMS, peak-to-peak, zero crossings"
   ],
   "id": "fb21a61fd3c69c01"
  },
  {
   "metadata": {},
   "cell_type": "code",
   "outputs": [],
   "execution_count": null,
   "source": [
    "#Frequency-domain features (FFT, Welch PSD):\n",
    "#Relative power in delta, theta, alpha, beta, gamma bands\n",
    "#\t•\tBandpower ratios (e.g., delta/alpha, theta/beta)\n",
    "#\t•\tSpectral entropy, median frequency"
   ],
   "id": "98f6e091364b5093"
  },
  {
   "metadata": {},
   "cell_type": "markdown",
   "source": "## 4. ECG (Electrocardiogram) – Heart activity",
   "id": "25d027162210d062"
  },
  {
   "metadata": {},
   "cell_type": "code",
   "outputs": [],
   "execution_count": null,
   "source": [
    "# Load the MAT file\n",
    "# Calculate  Mean, variance, RMS, peak-to-peak, zero crossings"
   ],
   "id": "7fb4c27f95ee1884"
  },
  {
   "metadata": {},
   "cell_type": "code",
   "outputs": [],
   "execution_count": null,
   "source": [
    "#Frequency-domain features (FFT, Welch PSD):\n",
    "#Relative power in delta, theta, alpha, beta, gamma bands\n",
    "#\t•\tBandpower ratios (e.g., delta/alpha, theta/beta)\n",
    "#\t•\tSpectral entropy, median frequency"
   ],
   "id": "3acecd7363ac03e8"
  },
  {
   "metadata": {},
   "cell_type": "markdown",
   "source": "## 5. Body Position",
   "id": "79086441de2590ea"
  },
  {
   "metadata": {
    "ExecuteTime": {
     "end_time": "2025-04-09T05:39:20.397631Z",
     "start_time": "2025-04-09T05:39:20.395557Z"
    }
   },
   "cell_type": "code",
   "source": [
    "# Load the MAT file\n",
    "# Calculate  Mean, variance, RMS, peak-to-peak, zero crossings"
   ],
   "id": "6e5bd6f066d17a2a",
   "outputs": [],
   "execution_count": 5
  },
  {
   "metadata": {},
   "cell_type": "code",
   "outputs": [],
   "execution_count": null,
   "source": [
    "#Frequency-domain features (FFT, Welch PSD):\n",
    "#Relative power in delta, theta, alpha, beta, gamma bands\n",
    "#\t•\tBandpower ratios (e.g., delta/alpha, theta/beta)\n",
    "#\t•\tSpectral entropy, median frequency"
   ],
   "id": "859f54568a326208"
  },
  {
   "metadata": {},
   "cell_type": "markdown",
   "source": "## 6. SpO2 (Oxygen Saturation)",
   "id": "6d91ce116aa0111d"
  },
  {
   "metadata": {},
   "cell_type": "code",
   "outputs": [],
   "execution_count": null,
   "source": [
    "# Load the MAT file\n",
    "# Calculate  Mean, variance, RMS, peak-to-peak, zero crossings"
   ],
   "id": "3c2c62f8b8b9a7a0"
  },
  {
   "metadata": {},
   "cell_type": "code",
   "outputs": [],
   "execution_count": null,
   "source": [
    "#Frequency-domain features (FFT, Welch PSD):\n",
    "#Relative power in delta, theta, alpha, beta, gamma bands\n",
    "#\t•\tBandpower ratios (e.g., delta/alpha, theta/beta)\n",
    "#\t•\tSpectral entropy, median frequency"
   ],
   "id": "294e93b82d73b776"
  },
  {
   "metadata": {},
   "cell_type": "markdown",
   "source": "",
   "id": "1392f3b96a0da327"
  },
  {
   "metadata": {},
   "cell_type": "markdown",
   "source": "## 7. Thoracic and Abdominal Respiration",
   "id": "5a9c440988ab187f"
  },
  {
   "metadata": {},
   "cell_type": "code",
   "outputs": [],
   "execution_count": null,
   "source": [
    "# Load the MAT file\n",
    "# Calculate  Mean, variance, RMS, peak-to-peak, zero crossings"
   ],
   "id": "baba382c6df95cb"
  },
  {
   "metadata": {},
   "cell_type": "code",
   "outputs": [],
   "execution_count": null,
   "source": [
    "#Frequency-domain features (FFT, Welch PSD):\n",
    "#Relative power in delta, theta, alpha, beta, gamma bands\n",
    "#\t•\tBandpower ratios (e.g., delta/alpha, theta/beta)\n",
    "#\t•\tSpectral entropy, median frequency"
   ],
   "id": "4abc4b86fad1fcbc"
  },
  {
   "metadata": {},
   "cell_type": "markdown",
   "source": "## 8. Cross-signal features:",
   "id": "54d04c2753131ba5"
  }
 ],
 "metadata": {
  "kernelspec": {
   "display_name": "Python 3",
   "language": "python",
   "name": "python3"
  },
  "language_info": {
   "codemirror_mode": {
    "name": "ipython",
    "version": 2
   },
   "file_extension": ".py",
   "mimetype": "text/x-python",
   "name": "python",
   "nbconvert_exporter": "python",
   "pygments_lexer": "ipython2",
   "version": "2.7.6"
  }
 },
 "nbformat": 4,
 "nbformat_minor": 5
}
