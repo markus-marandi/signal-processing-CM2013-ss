{
 "cells": [
  {
   "metadata": {},
   "cell_type": "markdown",
   "source": "## Import matrix",
   "id": "23d163f45d51dfa2"
  },
  {
   "metadata": {
    "ExecuteTime": {
     "end_time": "2025-04-07T08:35:25.032183Z",
     "start_time": "2025-04-07T08:35:25.022469Z"
    }
   },
   "cell_type": "code",
   "source": [
    "import h5py\n",
    "from data.edf_data_import import read_mat_string\n",
    "\n",
    "mat_file = \"./data/EDF_RawData.mat\"\n",
    "\n",
    "with h5py.File(mat_file, 'r') as f:\n",
    "    # List the top-level keys in the MAT file\n",
    "    print(\"Keys:\", list(f.keys()))\n",
    "    \n",
    "    # Access the 'allData' group\n",
    "    allData = f['allData']\n",
    "    \n",
    "    # Access the 'fileName' field: it is stored as an array of references.\n",
    "    file_names_ds = allData['fileName']\n",
    "    file_names_list = []\n",
    "    for i in range(file_names_ds.shape[0]):\n",
    "        ref = file_names_ds[i, 0]\n",
    "        name_str = read_mat_string(ref, f)\n",
    "        file_names_list.append(name_str)\n",
    "    \n",
    "    print(\"EDF File Names:\")\n",
    "    for name in file_names_list:\n",
    "        print(\"  \", name)\n",
    "    \n",
    "    # Access header and record fields similarly:\n",
    "    hdr = allData['hdr']\n",
    "    record = allData['record']\n",
    "    # You can add further parsing as needed."
   ],
   "id": "7ffffffc00b1b589",
   "outputs": [
    {
     "name": "stdout",
     "output_type": "stream",
     "text": [
      "Keys: ['#refs#', 'allData']\n",
      "EDF File Names:\n",
      "   [[ 82]\n",
      " [ 49]\n",
      " [ 46]\n",
      " [101]\n",
      " [100]\n",
      " [102]]\n",
      "   [[ 82]\n",
      " [ 49]\n",
      " [ 48]\n",
      " [ 46]\n",
      " [101]\n",
      " [100]\n",
      " [102]]\n",
      "   [[ 82]\n",
      " [ 50]\n",
      " [ 46]\n",
      " [101]\n",
      " [100]\n",
      " [102]]\n",
      "   [[ 82]\n",
      " [ 51]\n",
      " [ 46]\n",
      " [101]\n",
      " [100]\n",
      " [102]]\n",
      "   [[ 82]\n",
      " [ 52]\n",
      " [ 46]\n",
      " [101]\n",
      " [100]\n",
      " [102]]\n",
      "   [[ 82]\n",
      " [ 53]\n",
      " [ 46]\n",
      " [101]\n",
      " [100]\n",
      " [102]]\n",
      "   [[ 82]\n",
      " [ 54]\n",
      " [ 46]\n",
      " [101]\n",
      " [100]\n",
      " [102]]\n",
      "   [[ 82]\n",
      " [ 55]\n",
      " [ 46]\n",
      " [101]\n",
      " [100]\n",
      " [102]]\n",
      "   [[ 82]\n",
      " [ 56]\n",
      " [ 46]\n",
      " [101]\n",
      " [100]\n",
      " [102]]\n",
      "   [[ 82]\n",
      " [ 57]\n",
      " [ 46]\n",
      " [101]\n",
      " [100]\n",
      " [102]]\n"
     ]
    }
   ],
   "execution_count": 14
  },
  {
   "metadata": {},
   "cell_type": "markdown",
   "source": [
    "## Contents Overview\n",
    "\n",
    "The MAT file (saved using MATLAB version 7.3 format) contains two top-level groups:\n",
    "\n",
    "- **`#refs#`**:  \n",
    "  Internal references used by MATLAB/HDF5.\n",
    "\n",
    "- **`allData`**:  \n",
    "  A MATLAB structure array that holds the raw data and header information for each EDF file. Since there are 10 EDF files processed, `allData` is organized as a structure array with 10 elements. Each element corresponds to one EDF file and has the following fields:\n",
    "  \n",
    "  1. **`fileName`**  \n",
    "     - **Type:** MATLAB string  \n",
    "     - **Shape:** (10, 1)  \n",
    "     - **Description:** Contains the name of each EDF file.  \n",
    "     - **Note:** When decoded in Python, the strings may include extra null characters (e.g., `R�1�.�e�d�f�`), which is typical of how MATLAB stores strings in this format.\n",
    "  \n",
    "  2. **`hdr`**  \n",
    "     - **Type:** MATLAB structure  \n",
    "     - **Description:** Contains header information as returned by `edfread`. This may include metadata such as:\n",
    "       - Sampling rates\n",
    "       - Number of channels\n",
    "       - Channel labels\n",
    "       - Other EDF-specific information\n",
    "     - **Example Access in MATLAB:**  \n",
    "       ```matlab\n",
    "       firstHeader = allData(1).hdr;\n",
    "       ```\n",
    "  \n",
    "  3. **`record`**  \n",
    "     - **Type:** Numeric matrix  \n",
    "     - **Description:** Contains the raw signal data from the EDF file. Each matrix is typically organized as `[channels x samples]`.\n",
    "     - **Example Access in MATLAB:**  \n",
    "       ```matlab\n",
    "       firstRecord = allData(1).record;\n",
    "       ```\n",
    "\n",
    "### In MATLAB\n",
    "\n",
    "1. **Loading the MAT File:**\n",
    "   ```matlab\n",
    "   load('EDF_RawData.mat', 'allData');"
   ],
   "id": "7aa9cb3979c76f84"
  },
  {
   "metadata": {},
   "cell_type": "markdown",
   "source": "\n",
   "id": "cdf7887839d94f1a"
  },
  {
   "metadata": {},
   "cell_type": "markdown",
   "source": [
    "1. Basic features (Time-domain) per 30s epoch:\n",
    "From EEG (marius), EMG, EOG, ECG, etc.\n",
    "\t•\tMean, variance, RMS, peak-to-peak, zero crossings\n",
    "\t•\tHjorth parameters: Activity, Mobility, Complexity\n",
    "\t•\tEMG tone (muscle tension), ECG R-R intervals\n",
    "\t6 features x 6 signals\n",
    "\t\n",
    "\n",
    "- eeg is done\n",
    "- emg is half-done (but not that useful)\n",
    "- eog is done\n",
    "- position - let's not do it\n",
    "- \n"
   ],
   "id": "2e9edc79f0950923"
  },
  {
   "metadata": {},
   "cell_type": "markdown",
   "source": [
    "2. Frequency-domain features (FFT, Welch PSD):\n",
    "\n",
    "For each signal:\n",
    "\t•\tRelative power in delta, theta, alpha, beta, gamma bands\n",
    "\t•\tBandpower ratios (e.g., delta/alpha, theta/beta)\n",
    "\t•\tSpectral entropy, median frequency\n",
    "\n",
    "10 features × 6 signals = 60 features\n",
    "- take from Marius notebook\n",
    "- "
   ],
   "id": "b3f40ee8d5491f61"
  },
  {
   "metadata": {},
   "cell_type": "markdown",
   "source": [
    "3. Time-frequency features (Wavelet or STFT):\n",
    "\n",
    "Wavelet energy in bands, scalogram statistics\n",
    "\t•\tMorlet or Daubechies wavelets\n",
    "\t•\tTransient spike detection (esp. for N2 spindles)\n",
    "\n",
    "5 per signal = 30"
   ],
   "id": "a0faf6d3affbdc19"
  },
  {
   "metadata": {},
   "cell_type": "markdown",
   "source": [
    "4. Cross-signal features:\n",
    "\n",
    "\t•\tEEG–EOG coherence (eye movement and brain activity)\n",
    "\t•\tEEG–EMG correlation (REM: low EMG + EEG theta)\n",
    "\t•\tECG–Respiration coupling (cardio-respiratory phase sync)\n",
    "\t•\tEMG × SpO2 drop rate (apnea signatures) - @Martin\n",
    "\n",
    "15 interaction features"
   ],
   "id": "302eca3f91e60065"
  },
  {
   "metadata": {},
   "cell_type": "markdown",
   "source": [
    "5. Morphological / statistical shape descriptors:\n",
    "\t•\tSkewness, kurtosis of the signal window\n",
    "\t•\tSpike frequency, duration, slope (esp. in EEG)\n",
    "\t•\tCross-correlation peak lag between L-EOG and R-EOG\n",
    "\n",
    "10–20 from this group"
   ],
   "id": "384bc13b5d58ca4f"
  },
  {
   "metadata": {},
   "cell_type": "markdown",
   "source": [
    "6. Event-driven features (from annotations or custom detectors):\n",
    "\t•\tNumber of desaturation events in epoch\n",
    "\t•\tApnea duration stats\n",
    "\t•\tMicroarousal presence\n",
    "\n",
    "10–15 from XML annotations"
   ],
   "id": "65d45071cd50b5db"
  },
  {
   "metadata": {},
   "cell_type": "markdown",
   "source": [
    "7. Dynamics between epochs (contextual features):\n",
    "\t•\tChange in EEG delta from previous epoch\n",
    "\t•\tTime since last REM\n",
    "\t•\tVariance trend over past 3 epochs\n",
    "\n",
    "about 10 more"
   ],
   "id": "c93cf42fc0af3d77"
  },
  {
   "metadata": {},
   "cell_type": "markdown",
   "source": [
    "Separate the notebook to do basic needed stuff and go more advanced\n",
    "\n",
    "Feature matrix\n",
    "\n"
   ],
   "id": "a3cda3a73c22ef3e"
  }
 ],
 "metadata": {
  "kernelspec": {
   "display_name": "Python 3",
   "language": "python",
   "name": "python3"
  },
  "language_info": {
   "codemirror_mode": {
    "name": "ipython",
    "version": 2
   },
   "file_extension": ".py",
   "mimetype": "text/x-python",
   "name": "python",
   "nbconvert_exporter": "python",
   "pygments_lexer": "ipython2",
   "version": "2.7.6"
  }
 },
 "nbformat": 4,
 "nbformat_minor": 5
}
