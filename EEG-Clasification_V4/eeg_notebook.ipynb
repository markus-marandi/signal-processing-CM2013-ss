{
 "cells": [
  {
   "cell_type": "code",
   "execution_count": null,
   "metadata": {},
   "outputs": [],
   "source": [
    "import numpy as np\n",
    "import matplotlib.pyplot as plt\n",
    "import scipy.io as sio\n",
    "from scipy import signal as sig\n",
    "from sklearn.decomposition import FastICA\n",
    "import pywt\n",
    "from sklearn.model_selection import train_test_split\n",
    "from sklearn.preprocessing import StandardScaler\n",
    "from sklearn.ensemble import RandomForestClassifier\n",
    "from sklearn.svm import SVC\n",
    "from sklearn.metrics import accuracy_score, confusion_matrix, classification_report\n",
    "import xgboost as xgb\n",
    "from sklearn.pipeline import Pipeline\n",
    "import seaborn as sns\n",
    "from sklearn.preprocessing import LabelEncoder\n",
    "import os\n",
    "import preprocess_library as pre"
   ]
  },
  {
   "cell_type": "code",
   "execution_count": null,
   "metadata": {},
   "outputs": [],
   "source": [
    "# Import EDF and XML\n",
    "channels = {\n",
    "    2: 'EEG(sec)',  # 0-based index for position 3\n",
    "    3: 'ECG',   # 0-based index for position 4\n",
    "    4: 'EMG',   # 0-based index for position 5\n",
    "    5: 'EOG(L)',  # 0-based index for position 6\n",
    "    6: 'EOG(R)',  # 0-based index for position 7\n",
    "    7: 'EEG',    # 0-based index for position 8\n",
    "    10: 'ABDO RES'  # 0-based index for position 11\n",
    "}\n",
    "\n",
    "# Create a dict for sampling rate\n",
    "sampling_rate = {\n",
    "    2: 125,  # 0-based index for position 3\n",
    "    3: 125,   # 0-based index for position 4\n",
    "    4: 125,   # 0-based index for position 5\n",
    "    5: 125,  # 0-based index for position 6\n",
    "    6: 125,  # 0-based index for position 7\n",
    "    7: 125,   # 0-based index for position 8\n",
    "    10: 125   # 0-based index for position 11\n",
    "}\n",
    "\n",
    "raw_data, raw_xml = pre.load_patient_data(1,'Input', channels, 'Output')"
   ]
  }
 ],
 "metadata": {
  "kernelspec": {
   "display_name": ".venv",
   "language": "python",
   "name": "python3"
  },
  "language_info": {
   "codemirror_mode": {
    "name": "ipython",
    "version": 3
   },
   "file_extension": ".py",
   "mimetype": "text/x-python",
   "name": "python",
   "nbconvert_exporter": "python",
   "pygments_lexer": "ipython3",
   "version": "3.9.6"
  }
 },
 "nbformat": 4,
 "nbformat_minor": 2
}
